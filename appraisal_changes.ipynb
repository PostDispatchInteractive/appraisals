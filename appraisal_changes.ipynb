{
 "cells": [
  {
   "cell_type": "code",
   "execution_count": 1,
   "metadata": {},
   "outputs": [],
   "source": [
    "# The data for this analysis comes from two places: Years 2013, 2015 and 2019 are available on the city's open data\n",
    "# website, at (link). The 2017 is not online. The Post-Dispatch Sunshine requested it from the St. Louis Assessor. "
   ]
  },
  {
   "cell_type": "code",
   "execution_count": 2,
   "metadata": {},
   "outputs": [],
   "source": [
    "# Importing needed modules\n",
    "import pandas as pd\n",
    "import csv\n",
    "import warnings\n",
    "warnings.simplefilter('ignore')"
   ]
  },
  {
   "cell_type": "code",
   "execution_count": 3,
   "metadata": {},
   "outputs": [],
   "source": [
    "# Loading in the data\n",
    "y13 = pd.read_csv('./for_analysis/prcl_2013.csv')\n",
    "y15 = pd.read_csv('./for_analysis/prcl_2015.csv')\n",
    "y17 = pd.read_csv('./for_analysis/prcl_2017.csv')\n",
    "y19 = pd.read_csv('./for_analysis/prcl_2019.csv')"
   ]
  },
  {
   "cell_type": "code",
   "execution_count": 4,
   "metadata": {},
   "outputs": [
    {
     "name": "stdout",
     "output_type": "stream",
     "text": [
      "<class 'pandas.core.frame.DataFrame'>\n",
      "RangeIndex: 129196 entries, 0 to 129195\n",
      "Data columns (total 81 columns):\n",
      "OBJECTID      129196 non-null int64\n",
      "HANDLE        129196 non-null int64\n",
      "UPDATED       129196 non-null object\n",
      "Shape_Leng    129196 non-null float64\n",
      "Shape_Area    129196 non-null float64\n",
      "HANDLE_1      129196 non-null int64\n",
      "UPDATED_1     129196 non-null object\n",
      "SITEADDR      129196 non-null object\n",
      "OWNERNAME     129196 non-null object\n",
      "OWNERNAME2    13784 non-null object\n",
      "OWNERADDR     127192 non-null object\n",
      "OWNERCITY     127231 non-null object\n",
      "OWNERSTATE    124176 non-null object\n",
      "OWNERCNTRY    1104 non-null object\n",
      "OWNERZIP      127187 non-null object\n",
      "OWNERGROUP    13892 non-null object\n",
      "NUMUNITS      129196 non-null int64\n",
      "ZONING1       128557 non-null object\n",
      "ZONING2       484 non-null object\n",
      "ZONING3       15 non-null object\n",
      "VACANTLAND    129196 non-null object\n",
      "ASMTLAND      129196 non-null float64\n",
      "ASMTIMPROV    129196 non-null float64\n",
      "ASMTTOTAL     129196 non-null float64\n",
      "LANDUSE1      129196 non-null int64\n",
      "LANDUSE2      129196 non-null int64\n",
      "LANDUSE3      129196 non-null int64\n",
      "LANDUSE4      129196 non-null int64\n",
      "ASRUSE1       129196 non-null int64\n",
      "ASRUSE2       129196 non-null int64\n",
      "ASRUSE3       129196 non-null int64\n",
      "ASRUSE4       129196 non-null int64\n",
      "ASRCLASS1     129196 non-null int64\n",
      "ASRCLASS2     129196 non-null int64\n",
      "ASRCLASS3     129196 non-null int64\n",
      "ASRCLASS4     129196 non-null int64\n",
      "LEGAL1        128416 non-null object\n",
      "LEGAL2        128503 non-null object\n",
      "LEGAL3        128226 non-null object\n",
      "LEGAL4        126360 non-null object\n",
      "LEGAL5        39295 non-null object\n",
      "NUMBLDGS      129196 non-null int64\n",
      "LANDAREA      129196 non-null int64\n",
      "FRONTAGE      129196 non-null float64\n",
      "DAILYDATE     118477 non-null object\n",
      "DAILYNUM      129196 non-null int64\n",
      "BOOKNUM       106656 non-null object\n",
      "BOOKPAGE      129196 non-null int64\n",
      "BDG1YEAR      129196 non-null int64\n",
      "BDG1AREA      129196 non-null int64\n",
      "BDG1EXWALL    129196 non-null int64\n",
      "BDG1STRYCD    129196 non-null int64\n",
      "BDG1OCCCD     129196 non-null int64\n",
      "CITYBLOCK     129196 non-null float64\n",
      "PARCEL        129196 non-null int64\n",
      "PARITY        129196 non-null object\n",
      "ADDRNUM       129196 non-null int64\n",
      "ADDRSUF       1299 non-null object\n",
      "STREETPRE     11982 non-null object\n",
      "STREETNAME    129196 non-null object\n",
      "STREETSUF     127730 non-null object\n",
      "STRSUFDIR     16 non-null object\n",
      "UNITNUM       39 non-null object\n",
      "CDADIST       129196 non-null int64\n",
      "CDASUBDIST    129196 non-null int64\n",
      "WARD          129196 non-null int64\n",
      "PRECINCT02    129196 non-null int64\n",
      "PRECINCT      129196 non-null int64\n",
      "NBRHD         129196 non-null int64\n",
      "ASRNBRHD      129196 non-null int64\n",
      "CENSBLOCK     129196 non-null float64\n",
      "POLICEDIST    129196 non-null int64\n",
      "ZIP           129196 non-null int64\n",
      "IMPACTAREA    129196 non-null int64\n",
      "HSCONSERV     129196 non-null int64\n",
      "OWNEROCC      58725 non-null object\n",
      "VACBLDGYR     129196 non-null int64\n",
      "PARCEL10      129196 non-null int64\n",
      "PARCEL9       129196 non-null int64\n",
      "PRECINCT10    129196 non-null int64\n",
      "INSPAREA10    129196 non-null int64\n",
      "dtypes: float64(8), int64(43), object(30)\n",
      "memory usage: 79.8+ MB\n"
     ]
    }
   ],
   "source": [
    "# Getting a summary of each year of data\n",
    "y13.info()"
   ]
  },
  {
   "cell_type": "code",
   "execution_count": 5,
   "metadata": {},
   "outputs": [
    {
     "name": "stdout",
     "output_type": "stream",
     "text": [
      "<class 'pandas.core.frame.DataFrame'>\n",
      "RangeIndex: 128830 entries, 0 to 128829\n",
      "Data columns (total 80 columns):\n",
      "OBJECTID      128830 non-null int64\n",
      "HANDLE        128830 non-null int64\n",
      "Shape_area    128830 non-null float64\n",
      "Shape_len     128830 non-null float64\n",
      "HANDLE_1      128830 non-null int64\n",
      "UPDATED       128830 non-null object\n",
      "SITEADDR      128830 non-null object\n",
      "OWNERNAME     128830 non-null object\n",
      "OWNERNAME2    13913 non-null object\n",
      "OWNERADDR     126877 non-null object\n",
      "OWNERCITY     126919 non-null object\n",
      "OWNERSTATE    124127 non-null object\n",
      "OWNERCNTRY    1034 non-null object\n",
      "OWNERZIP      126871 non-null object\n",
      "OWNERGROUP    15225 non-null object\n",
      "NUMUNITS      128830 non-null int64\n",
      "ZONING1       128189 non-null object\n",
      "ZONING2       470 non-null object\n",
      "ZONING3       14 non-null object\n",
      "VACANTLAND    128830 non-null object\n",
      "ASMTLAND      128830 non-null float64\n",
      "ASMTIMPROV    128830 non-null float64\n",
      "ASMTTOTAL     128830 non-null float64\n",
      "LANDUSE1      128830 non-null int64\n",
      "LANDUSE2      128830 non-null int64\n",
      "LANDUSE3      128830 non-null int64\n",
      "LANDUSE4      128830 non-null int64\n",
      "ASRUSE1       128830 non-null int64\n",
      "ASRUSE2       128830 non-null int64\n",
      "ASRUSE3       128830 non-null int64\n",
      "ASRUSE4       128830 non-null int64\n",
      "ASRCLASS1     128830 non-null int64\n",
      "ASRCLASS2     128830 non-null int64\n",
      "ASRCLASS3     128830 non-null int64\n",
      "ASRCLASS4     128830 non-null int64\n",
      "LEGAL1        128066 non-null object\n",
      "LEGAL2        128155 non-null object\n",
      "LEGAL3        127886 non-null object\n",
      "LEGAL4        126034 non-null object\n",
      "LEGAL5        39022 non-null object\n",
      "NUMBLDGS      128830 non-null int64\n",
      "LANDAREA      128830 non-null int64\n",
      "FRONTAGE      128830 non-null float64\n",
      "DAILYDATE     119209 non-null object\n",
      "DAILYNUM      128830 non-null int64\n",
      "BOOKNUM       93064 non-null object\n",
      "BOOKPAGE      128830 non-null int64\n",
      "BDG1YEAR      128830 non-null int64\n",
      "BDG1AREA      128830 non-null int64\n",
      "BDG1EXWALL    128830 non-null int64\n",
      "BDG1STRYCD    128830 non-null int64\n",
      "BDG1OCCCD     128830 non-null int64\n",
      "CITYBLOCK     128830 non-null float64\n",
      "PARCEL        128830 non-null int64\n",
      "PARITY        128830 non-null object\n",
      "ADDRNUM       128830 non-null int64\n",
      "ADDRSUF       1281 non-null object\n",
      "STREETPRE     11861 non-null object\n",
      "STREETNAME    128830 non-null object\n",
      "STREETSUF     127398 non-null object\n",
      "STRSUFDIR     16 non-null object\n",
      "UNITNUM       47 non-null object\n",
      "CDADIST       128830 non-null int64\n",
      "CDASUBDIST    128830 non-null int64\n",
      "WARD          128830 non-null int64\n",
      "PRECINCT02    128830 non-null int64\n",
      "PRECINCT      128830 non-null int64\n",
      "NBRHD         128830 non-null int64\n",
      "ASRNBRHD      128830 non-null int64\n",
      "CENSBLOCK     128830 non-null float64\n",
      "POLICEDIST    128830 non-null int64\n",
      "ZIP           128830 non-null int64\n",
      "IMPACTAREA    128830 non-null int64\n",
      "HSCONSERV     128830 non-null int64\n",
      "OWNEROCC      56684 non-null object\n",
      "VACBLDGYR     128830 non-null int64\n",
      "PARCEL10      128830 non-null int64\n",
      "PARCEL9       128830 non-null int64\n",
      "PRECINCT10    128830 non-null int64\n",
      "INSPAREA10    128830 non-null int64\n",
      "dtypes: float64(8), int64(43), object(29)\n",
      "memory usage: 78.6+ MB\n"
     ]
    }
   ],
   "source": [
    "y15.info()"
   ]
  },
  {
   "cell_type": "code",
   "execution_count": 6,
   "metadata": {},
   "outputs": [
    {
     "name": "stdout",
     "output_type": "stream",
     "text": [
      "<class 'pandas.core.frame.DataFrame'>\n",
      "RangeIndex: 140311 entries, 0 to 140310\n",
      "Data columns (total 16 columns):\n",
      "tax_year             140311 non-null int64\n",
      "nhood                140311 non-null int64\n",
      "ward10               140311 non-null int64\n",
      "parcelid             140311 non-null int64\n",
      "parcelid_pd          140311 non-null int64\n",
      "prop_address         140286 non-null object\n",
      "owner_name           140311 non-null object\n",
      "owner_name_2         15291 non-null object\n",
      "spec_bus_dist        140311 non-null int64\n",
      "class_code           140311 non-null int64\n",
      "redev_code           140311 non-null int64\n",
      "land_use_code        140311 non-null int64\n",
      "curr_total_value     140311 non-null int64\n",
      "class_code2          140311 non-null int64\n",
      "land_use_code2       1667 non-null float64\n",
      "curr_total_value2    140311 non-null int64\n",
      "dtypes: float64(1), int64(12), object(3)\n",
      "memory usage: 17.1+ MB\n"
     ]
    }
   ],
   "source": [
    "y17.info()"
   ]
  },
  {
   "cell_type": "code",
   "execution_count": 7,
   "metadata": {},
   "outputs": [
    {
     "name": "stdout",
     "output_type": "stream",
     "text": [
      "<class 'pandas.core.frame.DataFrame'>\n",
      "RangeIndex: 139192 entries, 0 to 139191\n",
      "Columns: 119 entries, CityBlock to OwnerUpdate\n",
      "dtypes: float64(8), int64(64), object(47)\n",
      "memory usage: 126.4+ MB\n"
     ]
    }
   ],
   "source": [
    "y19.info()"
   ]
  },
  {
   "cell_type": "code",
   "execution_count": 8,
   "metadata": {},
   "outputs": [],
   "source": [
    "# Putting the values we need to filter in list form\n",
    "indv = [100]"
   ]
  },
  {
   "cell_type": "code",
   "execution_count": 9,
   "metadata": {},
   "outputs": [],
   "source": [
    "sf = [1110]"
   ]
  },
  {
   "cell_type": "code",
   "execution_count": 10,
   "metadata": {},
   "outputs": [],
   "source": [
    "# Filtering the data to only taxable single-family properties not under redevelopment\n",
    "y13_indv = y13.loc[y13['ASRCLASS1'].isin(indv)]\n",
    "y15_indv = y15.loc[y15['ASRCLASS1'].isin(indv)]\n",
    "y17_indv = y17.loc[y17['class_code'].isin(indv)]\n",
    "y19_indv = y19.loc[y19['AsrClassCode'].isin(indv)]"
   ]
  },
  {
   "cell_type": "code",
   "execution_count": 11,
   "metadata": {},
   "outputs": [],
   "source": [
    "y13_sf = y13_indv.loc[y13_indv['LANDUSE1'].isin(sf)]\n",
    "y15_sf = y15_indv.loc[y15_indv['LANDUSE1'].isin(sf)]\n",
    "y17_sf = y17_indv.loc[y17_indv['land_use_code'].isin(sf)]\n",
    "y19_sf = y19_indv.loc[y19_indv['AsrLandUse1'].isin(sf)]"
   ]
  },
  {
   "cell_type": "code",
   "execution_count": 12,
   "metadata": {},
   "outputs": [
    {
     "name": "stdout",
     "output_type": "stream",
     "text": [
      "<class 'pandas.core.frame.DataFrame'>\n",
      "Int64Index: 65370 entries, 546 to 129183\n",
      "Data columns (total 81 columns):\n",
      "OBJECTID      65370 non-null int64\n",
      "HANDLE        65370 non-null int64\n",
      "UPDATED       65370 non-null object\n",
      "Shape_Leng    65370 non-null float64\n",
      "Shape_Area    65370 non-null float64\n",
      "HANDLE_1      65370 non-null int64\n",
      "UPDATED_1     65370 non-null object\n",
      "SITEADDR      65370 non-null object\n",
      "OWNERNAME     65370 non-null object\n",
      "OWNERNAME2    4908 non-null object\n",
      "OWNERADDR     65344 non-null object\n",
      "OWNERCITY     65343 non-null object\n",
      "OWNERSTATE    64208 non-null object\n",
      "OWNERCNTRY    421 non-null object\n",
      "OWNERZIP      65339 non-null object\n",
      "OWNERGROUP    0 non-null object\n",
      "NUMUNITS      65370 non-null int64\n",
      "ZONING1       65368 non-null object\n",
      "ZONING2       19 non-null object\n",
      "ZONING3       0 non-null object\n",
      "VACANTLAND    65370 non-null object\n",
      "ASMTLAND      65370 non-null float64\n",
      "ASMTIMPROV    65370 non-null float64\n",
      "ASMTTOTAL     65370 non-null float64\n",
      "LANDUSE1      65370 non-null int64\n",
      "LANDUSE2      65370 non-null int64\n",
      "LANDUSE3      65370 non-null int64\n",
      "LANDUSE4      65370 non-null int64\n",
      "ASRUSE1       65370 non-null int64\n",
      "ASRUSE2       65370 non-null int64\n",
      "ASRUSE3       65370 non-null int64\n",
      "ASRUSE4       65370 non-null int64\n",
      "ASRCLASS1     65370 non-null int64\n",
      "ASRCLASS2     65370 non-null int64\n",
      "ASRCLASS3     65370 non-null int64\n",
      "ASRCLASS4     65370 non-null int64\n",
      "LEGAL1        65220 non-null object\n",
      "LEGAL2        65318 non-null object\n",
      "LEGAL3        65333 non-null object\n",
      "LEGAL4        64552 non-null object\n",
      "LEGAL5        21811 non-null object\n",
      "NUMBLDGS      65370 non-null int64\n",
      "LANDAREA      65370 non-null int64\n",
      "FRONTAGE      65370 non-null float64\n",
      "DAILYDATE     62020 non-null object\n",
      "DAILYNUM      65370 non-null int64\n",
      "BOOKNUM       57505 non-null object\n",
      "BOOKPAGE      65370 non-null int64\n",
      "BDG1YEAR      65370 non-null int64\n",
      "BDG1AREA      65370 non-null int64\n",
      "BDG1EXWALL    65370 non-null int64\n",
      "BDG1STRYCD    65370 non-null int64\n",
      "BDG1OCCCD     65370 non-null int64\n",
      "CITYBLOCK     65370 non-null float64\n",
      "PARCEL        65370 non-null int64\n",
      "PARITY        65370 non-null object\n",
      "ADDRNUM       65370 non-null int64\n",
      "ADDRSUF       135 non-null object\n",
      "STREETPRE     2981 non-null object\n",
      "STREETNAME    65370 non-null object\n",
      "STREETSUF     65066 non-null object\n",
      "STRSUFDIR     8 non-null object\n",
      "UNITNUM       10 non-null object\n",
      "CDADIST       65370 non-null int64\n",
      "CDASUBDIST    65370 non-null int64\n",
      "WARD          65370 non-null int64\n",
      "PRECINCT02    65370 non-null int64\n",
      "PRECINCT      65370 non-null int64\n",
      "NBRHD         65370 non-null int64\n",
      "ASRNBRHD      65370 non-null int64\n",
      "CENSBLOCK     65370 non-null float64\n",
      "POLICEDIST    65370 non-null int64\n",
      "ZIP           65370 non-null int64\n",
      "IMPACTAREA    65370 non-null int64\n",
      "HSCONSERV     65370 non-null int64\n",
      "OWNEROCC      45869 non-null object\n",
      "VACBLDGYR     65370 non-null int64\n",
      "PARCEL10      65370 non-null int64\n",
      "PARCEL9       65370 non-null int64\n",
      "PRECINCT10    65370 non-null int64\n",
      "INSPAREA10    65370 non-null int64\n",
      "dtypes: float64(8), int64(43), object(30)\n",
      "memory usage: 40.9+ MB\n"
     ]
    }
   ],
   "source": [
    "y13_sf.info()\n",
    "y13_sf.to_csv('y13sf.csv')"
   ]
  },
  {
   "cell_type": "code",
   "execution_count": 13,
   "metadata": {},
   "outputs": [
    {
     "name": "stdout",
     "output_type": "stream",
     "text": [
      "<class 'pandas.core.frame.DataFrame'>\n",
      "Int64Index: 64965 entries, 50 to 128829\n",
      "Data columns (total 80 columns):\n",
      "OBJECTID      64965 non-null int64\n",
      "HANDLE        64965 non-null int64\n",
      "Shape_area    64965 non-null float64\n",
      "Shape_len     64965 non-null float64\n",
      "HANDLE_1      64965 non-null int64\n",
      "UPDATED       64965 non-null object\n",
      "SITEADDR      64965 non-null object\n",
      "OWNERNAME     64965 non-null object\n",
      "OWNERNAME2    5053 non-null object\n",
      "OWNERADDR     64936 non-null object\n",
      "OWNERCITY     64936 non-null object\n",
      "OWNERSTATE    63881 non-null object\n",
      "OWNERCNTRY    425 non-null object\n",
      "OWNERZIP      64930 non-null object\n",
      "OWNERGROUP    0 non-null object\n",
      "NUMUNITS      64965 non-null int64\n",
      "ZONING1       64963 non-null object\n",
      "ZONING2       22 non-null object\n",
      "ZONING3       0 non-null object\n",
      "VACANTLAND    64965 non-null object\n",
      "ASMTLAND      64965 non-null float64\n",
      "ASMTIMPROV    64965 non-null float64\n",
      "ASMTTOTAL     64965 non-null float64\n",
      "LANDUSE1      64965 non-null int64\n",
      "LANDUSE2      64965 non-null int64\n",
      "LANDUSE3      64965 non-null int64\n",
      "LANDUSE4      64965 non-null int64\n",
      "ASRUSE1       64965 non-null int64\n",
      "ASRUSE2       64965 non-null int64\n",
      "ASRUSE3       64965 non-null int64\n",
      "ASRUSE4       64965 non-null int64\n",
      "ASRCLASS1     64965 non-null int64\n",
      "ASRCLASS2     64965 non-null int64\n",
      "ASRCLASS3     64965 non-null int64\n",
      "ASRCLASS4     64965 non-null int64\n",
      "LEGAL1        64816 non-null object\n",
      "LEGAL2        64914 non-null object\n",
      "LEGAL3        64929 non-null object\n",
      "LEGAL4        64151 non-null object\n",
      "LEGAL5        21566 non-null object\n",
      "NUMBLDGS      64965 non-null int64\n",
      "LANDAREA      64965 non-null int64\n",
      "FRONTAGE      64965 non-null float64\n",
      "DAILYDATE     62193 non-null object\n",
      "DAILYNUM      64965 non-null int64\n",
      "BOOKNUM       49905 non-null object\n",
      "BOOKPAGE      64965 non-null int64\n",
      "BDG1YEAR      64965 non-null int64\n",
      "BDG1AREA      64965 non-null int64\n",
      "BDG1EXWALL    64965 non-null int64\n",
      "BDG1STRYCD    64965 non-null int64\n",
      "BDG1OCCCD     64965 non-null int64\n",
      "CITYBLOCK     64965 non-null float64\n",
      "PARCEL        64965 non-null int64\n",
      "PARITY        64965 non-null object\n",
      "ADDRNUM       64965 non-null int64\n",
      "ADDRSUF       134 non-null object\n",
      "STREETPRE     2967 non-null object\n",
      "STREETNAME    64965 non-null object\n",
      "STREETSUF     64662 non-null object\n",
      "STRSUFDIR     8 non-null object\n",
      "UNITNUM       10 non-null object\n",
      "CDADIST       64965 non-null int64\n",
      "CDASUBDIST    64965 non-null int64\n",
      "WARD          64965 non-null int64\n",
      "PRECINCT02    64965 non-null int64\n",
      "PRECINCT      64965 non-null int64\n",
      "NBRHD         64965 non-null int64\n",
      "ASRNBRHD      64965 non-null int64\n",
      "CENSBLOCK     64965 non-null float64\n",
      "POLICEDIST    64965 non-null int64\n",
      "ZIP           64965 non-null int64\n",
      "IMPACTAREA    64965 non-null int64\n",
      "HSCONSERV     64965 non-null int64\n",
      "OWNEROCC      44680 non-null object\n",
      "VACBLDGYR     64965 non-null int64\n",
      "PARCEL10      64965 non-null int64\n",
      "PARCEL9       64965 non-null int64\n",
      "PRECINCT10    64965 non-null int64\n",
      "INSPAREA10    64965 non-null int64\n",
      "dtypes: float64(8), int64(43), object(29)\n",
      "memory usage: 40.1+ MB\n"
     ]
    }
   ],
   "source": [
    "y15_sf.info()\n",
    "y15_sf.to_csv('y15sf.csv')"
   ]
  },
  {
   "cell_type": "code",
   "execution_count": 14,
   "metadata": {},
   "outputs": [
    {
     "name": "stdout",
     "output_type": "stream",
     "text": [
      "<class 'pandas.core.frame.DataFrame'>\n",
      "Int64Index: 67088 entries, 1214 to 140269\n",
      "Data columns (total 16 columns):\n",
      "tax_year             67088 non-null int64\n",
      "nhood                67088 non-null int64\n",
      "ward10               67088 non-null int64\n",
      "parcelid             67088 non-null int64\n",
      "parcelid_pd          67088 non-null int64\n",
      "prop_address         67087 non-null object\n",
      "owner_name           67088 non-null object\n",
      "owner_name_2         5584 non-null object\n",
      "spec_bus_dist        67088 non-null int64\n",
      "class_code           67088 non-null int64\n",
      "redev_code           67088 non-null int64\n",
      "land_use_code        67088 non-null int64\n",
      "curr_total_value     67088 non-null int64\n",
      "class_code2          67088 non-null int64\n",
      "land_use_code2       0 non-null float64\n",
      "curr_total_value2    67088 non-null int64\n",
      "dtypes: float64(1), int64(12), object(3)\n",
      "memory usage: 8.7+ MB\n"
     ]
    }
   ],
   "source": [
    "y17_sf.info()\n",
    "y17_sf.to_csv('y17sf.csv')"
   ]
  },
  {
   "cell_type": "code",
   "execution_count": 15,
   "metadata": {},
   "outputs": [
    {
     "name": "stdout",
     "output_type": "stream",
     "text": [
      "<class 'pandas.core.frame.DataFrame'>\n",
      "Int64Index: 67523 entries, 1218 to 139142\n",
      "Columns: 119 entries, CityBlock to OwnerUpdate\n",
      "dtypes: float64(8), int64(64), object(47)\n",
      "memory usage: 61.8+ MB\n"
     ]
    }
   ],
   "source": [
    "y19_sf.info()\n",
    "y19_sf.to_csv('y19sf.csv')"
   ]
  },
  {
   "cell_type": "code",
   "execution_count": 16,
   "metadata": {},
   "outputs": [],
   "source": [
    "# Calculating the appraised value for single-family homes by dividing assessment values by 19%\n",
    "# This is the formula provided by the St. Louis Assessor to the Post-Dispatch\n",
    "y13_sf['ApprValue'] = (y13_sf['ASMTTOTAL']/.19)\n",
    "y15_sf['ApprValue'] = (y15_sf['ASMTTOTAL']/.19)\n",
    "y17_sf['ApprValue'] = (y17_sf['curr_total_value']/.19)\n",
    "y19_sf['ApprValue'] = (y19_sf['AsdTotal']/.19)"
   ]
  },
  {
   "cell_type": "code",
   "execution_count": 17,
   "metadata": {},
   "outputs": [],
   "source": [
    "# Grouping the data by neighborhood\n",
    "groupby13 = y13_sf.groupby('NBRHD')\n",
    "groupby15 = y15_sf.groupby('NBRHD')\n",
    "groupby17 = y17_sf.groupby('nhood')\n",
    "groupby19 = y19_sf.groupby('Nbrhd')"
   ]
  },
  {
   "cell_type": "code",
   "execution_count": 18,
   "metadata": {},
   "outputs": [],
   "source": [
    "# Finding median values for each neighborhood\n",
    "medians13 = groupby13.median()\n",
    "medians15 = groupby15.median()\n",
    "medians17 = groupby17.median()\n",
    "medians19 = groupby19.median()"
   ]
  },
  {
   "cell_type": "code",
   "execution_count": 19,
   "metadata": {},
   "outputs": [],
   "source": [
    "# Exporting the dataframes with median single-family home values grouped by neighborhood into .csv files\n",
    "medians13.to_csv('medians13.csv')\n",
    "medians15.to_csv('medians15.csv')\n",
    "medians17.to_csv('medians17.csv')\n",
    "medians19.to_csv('medians19.csv')"
   ]
  },
  {
   "cell_type": "code",
   "execution_count": null,
   "metadata": {},
   "outputs": [],
   "source": []
  }
 ],
 "metadata": {
  "kernelspec": {
   "display_name": "Python 2",
   "language": "python",
   "name": "python2"
  },
  "language_info": {
   "codemirror_mode": {
    "name": "ipython",
    "version": 2
   },
   "file_extension": ".py",
   "mimetype": "text/x-python",
   "name": "python",
   "nbconvert_exporter": "python",
   "pygments_lexer": "ipython2",
   "version": "2.7.15"
  }
 },
 "nbformat": 4,
 "nbformat_minor": 2
}
